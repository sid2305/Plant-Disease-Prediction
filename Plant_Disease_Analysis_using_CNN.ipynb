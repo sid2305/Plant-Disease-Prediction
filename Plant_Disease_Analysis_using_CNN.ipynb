{
  "nbformat": 4,
  "nbformat_minor": 0,
  "metadata": {
    "colab": {
      "name": "Plant Disease Analysis using CNN.ipynb",
      "provenance": [],
      "collapsed_sections": [],
      "authorship_tag": "ABX9TyPZJJl4M5ygYdrJHrXtzJ0p",
      "include_colab_link": true
    },
    "kernelspec": {
      "name": "python3",
      "display_name": "Python 3"
    }
  },
  "cells": [
    {
      "cell_type": "markdown",
      "metadata": {
        "id": "view-in-github",
        "colab_type": "text"
      },
      "source": [
        "<a href=\"https://colab.research.google.com/github/sid2305/Plant-Disease-Prediction/blob/master/Plant_Disease_Analysis_using_CNN.ipynb\" target=\"_parent\"><img src=\"https://colab.research.google.com/assets/colab-badge.svg\" alt=\"Open In Colab\"/></a>"
      ]
    },
    {
      "cell_type": "code",
      "metadata": {
        "id": "YHccY5eSA5V7"
      },
      "source": [
        "!git clone https://github.com/sid2305/PlantDiseaseAnalysis.git"
      ],
      "execution_count": null,
      "outputs": []
    },
    {
      "cell_type": "markdown",
      "metadata": {
        "id": "ZQqKfhFcCgCL"
      },
      "source": [
        "<h1>Plant Disease Analysis Using Deep Learning</h1>\n",
        "\n",
        "Here I have tried to built a model to detect and classify the disease in the plants. The inspiration for this implementation came from the paper 'PlantDoc: A Dataset for Visual Plant Disease Detection' by Davinder Singh*, Naman Jain*, Pranjali Jain*, Pratik Kayal* Sudhakar Kumawat, Nipun Batra\n",
        "(https://arxiv.org/pdf/1911.10317v1.pdf).\n",
        "\n",
        "I also took help from a blog by Oluwafemi Tairu. Here is the Arxiv link : https://towardsdatascience.com/plant-ai-plant-disease-detection-using-convolutional-neural-network-9b58a96f2289\n",
        "\n",
        "Dataset : \n",
        "There are 2 dataset that I used for training model\n",
        "1. PlantDoc dataset which is linked with the research paper mentioned above.\n",
        "   Details about the dataset : \n",
        "   2,598 images across 13 plant species and 27 classes\n",
        "\n"
      ]
    },
    {
      "cell_type": "code",
      "metadata": {
        "id": "nx0-6wGrBH4k"
      },
      "source": [
        "import keras\n",
        "import numpy as np\n",
        "import matplotlib.pyplot as plt\n",
        "import tensorflow as tf\n",
        "import tensorflow_datasets as tfds"
      ],
      "execution_count": null,
      "outputs": []
    },
    {
      "cell_type": "code",
      "metadata": {
        "id": "sJmNcnOcBIjy"
      },
      "source": [
        "plant_village = tfds.load(\"plant_village\")"
      ],
      "execution_count": null,
      "outputs": []
    },
    {
      "cell_type": "code",
      "metadata": {
        "id": "1qsLLkfSFgJW"
      },
      "source": [
        "from os import listdir\n",
        "# example of extracting bounding boxes from an annotation file\n",
        "from xml.etree import ElementTree\n",
        "import os, shutil, cv2\n",
        "\n",
        "X = []\n",
        "Z = []\n",
        "X1 = []\n",
        "Z1 = []\n",
        "imgsize = 100\n",
        "\n",
        "def extract_boxes(filename,image_name,is_train):\n",
        "    tree = ElementTree.parse(filename)\n",
        "    # get the root of the document\n",
        "    root = tree.getroot()\n",
        "    # extract each bounding box\n",
        "    boxes = list()\n",
        "    label = root.find('.//object/name').text\n",
        "    #print(label)\n",
        "    for box in root.findall('.//bndbox'):\n",
        "        xmin = int(box.find('xmin').text)\n",
        "        ymin = int(box.find('ymin').text)\n",
        "        xmax = int(box.find('xmax').text)\n",
        "        ymax = int(box.find('ymax').text)\n",
        "        coors = (xmin, ymin, xmax, ymax)\n",
        "        try:\n",
        "            img = cv2.imread(image_name)\n",
        "            crop_img = img[ymin:ymax, xmin:xmax]\n",
        "            crop_img = cv2.resize(crop_img,(imgsize,imgsize))\n",
        "            if is_train ==True:\n",
        "              X.append(np.array(crop_img))\n",
        "              Z.append(label)\n",
        "            else:\n",
        "              X1.append(np.array(crop_img))\n",
        "              Z1.append(label)\n",
        "        except Exception as e:\n",
        "            print(str(e))\n",
        "    # extract image dimensions\n",
        "    width = int(root.find('.//size/width').text)\n",
        "    height = int(root.find('.//size/height').text)\n",
        "    \n",
        "    #return boxes, width, height\n",
        "#to test extracr boxes method\n",
        "#extract_boxes('PlantDiseaseAnalysis/TRAIN/0.xml','PlantDiseaseAnalysis/TRAIN/0.jpg')\n"
      ],
      "execution_count": null,
      "outputs": []
    },
    {
      "cell_type": "code",
      "metadata": {
        "id": "vvvflRzpuIq0"
      },
      "source": [
        "# function to extract bounding boxes from an annotation file\n",
        "def load_dataset(dataset_dir,is_train):\n",
        "    # define data locations\n",
        "    images_dir = dataset_dir\n",
        "    annotations_dir = dataset_dir\n",
        "    # find all images\n",
        "    for filename in listdir(images_dir):\n",
        "        # extract image id\n",
        "        if(filename==\".DS_Store\"):\n",
        "            continue\n",
        "        if '.jpg' in filename:\n",
        "            image_id = filename[:-4]\n",
        "            img_path = images_dir + filename\n",
        "            #print(img_path)\n",
        "            ann_path = annotations_dir + image_id + '.xml'\n",
        "            #print(ann_path)\n",
        "            # extract details form annotation file\n",
        "            extract_boxes(ann_path,img_path,is_train)"
      ],
      "execution_count": null,
      "outputs": []
    },
    {
      "cell_type": "code",
      "metadata": {
        "id": "tgXSOgz4uLU6"
      },
      "source": [
        "load_dataset('PlantDiseaseAnalysis/TRAIN/',True)\n",
        "print(\"Image Loaded\")"
      ],
      "execution_count": null,
      "outputs": []
    },
    {
      "cell_type": "code",
      "metadata": {
        "id": "LLwPfAKeuN8K"
      },
      "source": [
        "apple_scab_leaf = '/root/tensorflow_datasets/downloads/extracted/Plant Village/Plant_leave_diseases/Apple___Apple_scab/'\n",
        "apple_leaf = '/root/tensorflow_datasets/downloads/extracted/Plant Village/Plant_leave_diseases/Apple___healthy/'\n",
        "apple_rust_leaf = '/root/tensorflow_datasets/downloads/extracted/Plant Village/Plant_leave_diseases/Apple___Cedar_apple_rust/'\n",
        "apple_black_rot = '/root/tensorflow_datasets/downloads/extracted/Plant Village/Plant_leave_diseases/Apple___Black_rot/'\n",
        "bell_pepper_leaf = '/root/tensorflow_datasets/downloads/extracted/Plant Village/Plant_leave_diseases/Pepper,_bell___healthy/'\n",
        "Bell_pepper_spot = '/root/tensorflow_datasets/downloads/extracted/Plant Village/Plant_leave_diseases/Pepper,_bell___Bacterial_spot/'\n",
        "blueberry_leaf = '/root/tensorflow_datasets/downloads/extracted/Plant Village/Plant_leave_diseases/Blueberry___healthy/'\n",
        "cherry_leaf = '/root/tensorflow_datasets/downloads/extracted/Plant Village/Plant_leave_diseases/Cherry___healthy/'\n",
        "cherry_powdery = '/root/tensorflow_datasets/downloads/extracted/Plant Village/Plant_leave_diseases/Cherry___Powdery_mildew/'\n",
        "corn_gray_leaf = '/root/tensorflow_datasets/downloads/extracted/Plant Village/Plant_leave_diseases/Corn___Cercospora_leaf_spot Gray_leaf_spot/'\n",
        "corn_leaf_blight = '/root/tensorflow_datasets/downloads/extracted/Plant Village/Plant_leave_diseases/Corn___Northern_Leaf_Blight/'\n",
        "corn_rust_leaf = '/root/tensorflow_datasets/downloads/extracted/Plant Village/Plant_leave_diseases/Corn___Common_rust/'\n",
        "corn_healthy = '/root/tensorflow_datasets/downloads/extracted/Plant Village/Plant_leave_diseases/Corn___healthy/'\n",
        "orange_greening = '/root/tensorflow_datasets/downloads/extracted/Plant Village/Plant_leave_diseases/Orange___Haunglongbing_(Citrus_greening)/'\n",
        "peach_leaf = '/root/tensorflow_datasets/downloads/extracted/Plant Village/Plant_leave_diseases/Peach___healthy/'\n",
        "peach_bacterial = '/root/tensorflow_datasets/downloads/extracted/Plant Village/Plant_leave_diseases/Peach___Bacterial_spot/'\n",
        "potato_leaf_early = '/root/tensorflow_datasets/downloads/extracted/Plant Village/Plant_leave_diseases/Potato___Early_blight/'\n",
        "potato_leaf_late = '/root/tensorflow_datasets/downloads/extracted/Plant Village/Plant_leave_diseases/Potato___Late_blight/'\n",
        "potato_healthy = '/root/tensorflow_datasets/downloads/extracted/Plant Village/Plant_leave_diseases/Potato___healthy/'\n",
        "raspberry_leaf = '/root/tensorflow_datasets/downloads/extracted/Plant Village/Plant_leave_diseases/Raspberry___healthy/'\n",
        "soyabean_leaf = '/root/tensorflow_datasets/downloads/extracted/Plant Village/Plant_leave_diseases/Soybean___healthy/'\n",
        "powdery_mildew_leaf = '/root/tensorflow_datasets/downloads/extracted/Plant Village/Plant_leave_diseases/Squash___Powdery_mildew/'\n",
        "strawberry_leaf = '/root/tensorflow_datasets/downloads/extracted/Plant Village/Plant_leave_diseases/Strawberry___healthy/'\n",
        "strawberry_scorch = '/root/tensorflow_datasets/downloads/extracted/Plant Village/Plant_leave_diseases/Strawberry___Leaf_scorch/'\n",
        "tomato_blight_leaf = '/root/tensorflow_datasets/downloads/extracted/Plant Village/Plant_leave_diseases/Tomato___Early_blight/'\n",
        "tomato_septoria_leaf = '/root/tensorflow_datasets/downloads/extracted/Plant Village/Plant_leave_diseases/Tomato___Septoria_leaf_spot/'\n",
        "tomato_leaf = '/root/tensorflow_datasets/downloads/extracted/Plant Village/Plant_leave_diseases/Tomato___healthy/'\n",
        "tomato_leaf_bacterial = '/root/tensorflow_datasets/downloads/extracted/Plant Village/Plant_leave_diseases/Tomato___Bacterial_spot/'\n",
        "tomato_leaf_late = '/root/tensorflow_datasets/downloads/extracted/Plant Village/Plant_leave_diseases/Tomato___Late_blight/'\n",
        "tomato_mosaic_virus = '/root/tensorflow_datasets/downloads/extracted/Plant Village/Plant_leave_diseases/Tomato___Tomato_mosaic_virus/'\n",
        "tomato_yellow_virus = '/root/tensorflow_datasets/downloads/extracted/Plant Village/Plant_leave_diseases/Tomato___Tomato_Yellow_Leaf_Curl_Virus/'\n",
        "tomato_target_spot = '/root/tensorflow_datasets/downloads/extracted/Plant Village/Plant_leave_diseases/Tomato___Target_Spot/'\n",
        "tomato_mold_leaf = '/root/tensorflow_datasets/downloads/extracted/Plant Village/Plant_leave_diseases/Tomato___Leaf_Mold/'\n",
        "tomato_spider_mites = '/root/tensorflow_datasets/downloads/extracted/Plant Village/Plant_leave_diseases/Tomato___Spider_mites Two-spotted_spider_mite/'\n",
        "grape_leaf = '/root/tensorflow_datasets/downloads/extracted/Plant Village/Plant_leave_diseases/Grape___healthy/'\n",
        "grape_black_rot = '/root/tensorflow_datasets/downloads/extracted/Plant Village/Plant_leave_diseases/Grape___Black_rot/'\n",
        "grape_esca = '/root/tensorflow_datasets/downloads/extracted/Plant Village/Plant_leave_diseases/Grape___Esca_(Black_Measles)/'\n",
        "grape_leaf_blight = '/root/tensorflow_datasets/downloads/extracted/Plant Village/Plant_leave_diseases/Grape___Leaf_blight_(Isariopsis_Leaf_Spot)/'"
      ],
      "execution_count": null,
      "outputs": []
    },
    {
      "cell_type": "code",
      "metadata": {
        "id": "Z8jT83xFuQUm"
      },
      "source": [
        "from tqdm import tqdm\n",
        "import os, shutil, cv2\n",
        "\n",
        "def label_assignment(img,label):\n",
        "    return label\n",
        "\n",
        "def training_data(label,data_dir):\n",
        "  count = 0\n",
        "  for img in tqdm(os.listdir(data_dir)):\n",
        "    if count==200:\n",
        "      break\n",
        "    count = count + 1 \n",
        "    label = label_assignment(img,label)\n",
        "    path = os.path.join(data_dir,img)\n",
        "    img = cv2.imread(path,cv2.IMREAD_COLOR)\n",
        "    img = cv2.resize(img,(imgsize,imgsize))\n",
        "        \n",
        "    X.append(np.array(img))\n",
        "    Z.append(str(label))"
      ],
      "execution_count": null,
      "outputs": []
    },
    {
      "cell_type": "code",
      "metadata": {
        "id": "qRWRgzlGuSgS"
      },
      "source": [
        "training_data('Apple Scab Leaf',apple_scab_leaf)\n",
        "training_data('Apple Leaf',apple_leaf)\n",
        "training_data('Apple rust leaf',apple_rust_leaf)\n",
        "training_data('Apple Black rot',apple_black_rot)\n",
        "training_data('Bell_pepper leaf',bell_pepper_leaf)\n",
        "training_data('Bell Pepper spot',Bell_pepper_spot)\n",
        "training_data('Blueberry leaf',blueberry_leaf)\n",
        "training_data('Cherry leaf',cherry_leaf)\n",
        "training_data('Cherry Powdery mildew',cherry_powdery)\n",
        "training_data('Corn Gray leaf spot',corn_gray_leaf)\n",
        "training_data('Corn leaf blight',corn_leaf_blight)\n",
        "training_data('Corn rust leaf',corn_rust_leaf)\n",
        "training_data('Corn Healthy',corn_healthy)\n",
        "training_data('Peach leaf',peach_leaf)\n",
        "training_data('Peach Bacterial',peach_bacterial)\n",
        "training_data('Potato leaf early blight',potato_leaf_early)\n",
        "training_data('Potato leaf late blight',potato_leaf_late)\n",
        "training_data('Potato Healthy',potato_healthy)\n",
        "training_data('Raspberry leaf',raspberry_leaf)\n",
        "training_data('Soyabean leaf',soyabean_leaf)\n",
        "training_data('Squash Powdery mildew leaf',powdery_mildew_leaf)\n",
        "training_data('Strawberry leaf',strawberry_leaf)\n",
        "training_data('Strawberry Leaf Scorch',strawberry_scorch)\n",
        "training_data('Tomato Early blight leaf',tomato_blight_leaf)\n",
        "training_data('Tomato Septoria leaf spot',tomato_septoria_leaf)\n",
        "training_data('Tomato leaf',tomato_leaf)\n",
        "training_data('Tomato leaf bacterial spot',tomato_leaf_bacterial)\n",
        "training_data('Tomato leaf late blight',tomato_leaf_late)\n",
        "training_data('Tomato leaf mosaic virus',tomato_mosaic_virus)\n",
        "training_data('Tomato leaf yellow virus',tomato_yellow_virus)\n",
        "training_data('Tomato mold leaf',tomato_mold_leaf)\n",
        "training_data('Tomato two spotted spider mites leaf',tomato_spider_mites)\n",
        "training_data('Tomato_Target_spot',tomato_target_spot)\n",
        "training_data('grape leaf',grape_leaf)\n",
        "training_data('grape leaf black rot',grape_black_rot)\n",
        "training_data('Grape Esca',grape_esca)\n",
        "training_data('Grape Leaf Blight',grape_leaf_blight)\n",
        "\n"
      ],
      "execution_count": null,
      "outputs": []
    },
    {
      "cell_type": "code",
      "metadata": {
        "id": "cJfE9LwXuWC-"
      },
      "source": [
        "len(X)"
      ],
      "execution_count": null,
      "outputs": []
    },
    {
      "cell_type": "code",
      "metadata": {
        "id": "KguMRGmJuYPj"
      },
      "source": [
        "len(Z)"
      ],
      "execution_count": null,
      "outputs": []
    },
    {
      "cell_type": "code",
      "metadata": {
        "id": "kX0SL0DKuc1I"
      },
      "source": [
        "from sklearn.preprocessing import LabelEncoder\n",
        "from keras.utils.np_utils import to_categorical\n",
        "from sklearn.model_selection import train_test_split\n",
        "from keras.preprocessing.image import ImageDataGenerator\n",
        "label_encoder= LabelEncoder()\n",
        "Y = label_encoder.fit_transform(Z)\n",
        "# Y1 = label_encoder.fit_transform(Z1)\n",
        "Y = to_categorical(Y,39)\n",
        "#y_train = Y\n",
        "# Y1 = to_categorical(Y1,39)\n",
        "X = np.array(X)\n",
        "X=X/255\n",
        "#x_train = X\n",
        "# X1 = np.array(X1)\n",
        "# X1=X1/255\n",
        "\n",
        "#x_train,x_test,y_train,y_test = train_test_split(X,Y,test_size=0.1,random_state=42)"
      ],
      "execution_count": null,
      "outputs": []
    },
    {
      "cell_type": "code",
      "metadata": {
        "id": "WQdV01dnuffk"
      },
      "source": [
        "Pred = list(label_encoder.classes_)\n",
        "Pred"
      ],
      "execution_count": null,
      "outputs": []
    },
    {
      "cell_type": "code",
      "metadata": {
        "id": "dFw8q2GDuiDY"
      },
      "source": [
        "x_train,x_test,y_train,y_test = train_test_split(X,Y,test_size=0.1,random_state=42)"
      ],
      "execution_count": null,
      "outputs": []
    },
    {
      "cell_type": "code",
      "metadata": {
        "id": "4In-1EPtui9o"
      },
      "source": [
        "augs_gen = ImageDataGenerator(\n",
        "        featurewise_center=False,  \n",
        "        samplewise_center=False, \n",
        "        featurewise_std_normalization=False,  \n",
        "        samplewise_std_normalization=False,  \n",
        "        zca_whitening=False,  \n",
        "        rotation_range=10,  \n",
        "        zoom_range = 0.1, \n",
        "        width_shift_range=0.2,  \n",
        "        height_shift_range=0.2, \n",
        "        horizontal_flip=True,\n",
        "        vertical_flip=False) \n",
        "\n",
        "augs_gen.fit(x_train)"
      ],
      "execution_count": null,
      "outputs": []
    },
    {
      "cell_type": "code",
      "metadata": {
        "id": "FGu_mCpRupAe"
      },
      "source": [
        "import matplotlib.pyplot as plt\n",
        "import random as rn\n",
        "fig,ax=plt.subplots(5,5)\n",
        "fig.set_size_inches(15,15)\n",
        "for i in range(5):\n",
        "    for j in range (5):\n",
        "        l=rn.randint(0,len(Z))\n",
        "        ax[i,j].imshow(X[l])\n",
        "        ax[i,j].set_title(Z[l])\n",
        "        \n",
        "plt.tight_layout()"
      ],
      "execution_count": null,
      "outputs": []
    },
    {
      "cell_type": "code",
      "metadata": {
        "id": "Ht4YDKFBupzl"
      },
      "source": [
        "from keras.models import Sequential,Input,Model\n",
        "from IPython.display import SVG\n",
        "from keras.layers.core import Activation, Flatten, Dropout, Dense\n",
        "from keras.applications import InceptionResNetV2, InceptionV3\n",
        "from keras.layers import Dense,Flatten,Dropout,Concatenate,GlobalAveragePooling2D,Lambda,ZeroPadding2D\n",
        "from keras.layers import SeparableConv2D,BatchNormalization,MaxPooling2D,Conv2D\n",
        "from keras.utils.vis_utils import model_to_dot\n",
        "from keras.utils.vis_utils import plot_model\n",
        "from keras.models import load_model\n",
        "\n",
        "base_model = InceptionResNetV2(weights='imagenet',include_top=False,input_shape = (imgsize,imgsize,3))\n",
        "base_model.output_shape[1]\n",
        "\n",
        "for layer in base_model.layers:\n",
        "     layer.trainable = False\n",
        "    \n",
        "# # for layer in base_model.layers:\n",
        "# #     print(layer,layer.trainable)\n",
        "\n",
        "chanDim = -1\n",
        "model = Sequential()\n",
        "model.add(Conv2D(32, (3, 3), padding=\"same\",input_shape = (imgsize,imgsize,3)))\n",
        "model.add(Activation(\"relu\"))\n",
        "model.add(BatchNormalization(axis=chanDim))\n",
        "model.add(MaxPooling2D(pool_size=(3, 3)))\n",
        "model.add(Dropout(0.25))\n",
        "model.add(Conv2D(64, (3, 3), padding=\"same\"))\n",
        "model.add(Activation(\"relu\"))\n",
        "model.add(BatchNormalization(axis=chanDim))\n",
        "model.add(Conv2D(64, (3, 3), padding=\"same\"))\n",
        "model.add(Activation(\"relu\"))\n",
        "model.add(BatchNormalization(axis=chanDim))\n",
        "model.add(MaxPooling2D(pool_size=(2, 2)))\n",
        "model.add(Dropout(0.25))\n",
        "model.add(Conv2D(128, (3, 3), padding=\"same\"))\n",
        "model.add(Activation(\"relu\"))\n",
        "model.add(BatchNormalization(axis=chanDim))\n",
        "model.add(Conv2D(128, (3, 3), padding=\"same\"))\n",
        "model.add(Activation(\"relu\"))\n",
        "model.add(BatchNormalization(axis=chanDim))\n",
        "model.add(MaxPooling2D(pool_size=(2, 2)))\n",
        "model.add(Dropout(0.25))\n",
        "model.add(Flatten())\n",
        "model.add(Dense(1024))\n",
        "model.add(Activation(\"relu\"))\n",
        "model.add(BatchNormalization())\n",
        "model.add(Dropout(0.5))\n",
        "model.add(Dense(39))\n",
        "model.add(Activation(\"softmax\"))\n",
        "model.summary()\n",
        "\n",
        "SVG(model_to_dot(model).create(prog='dot', format='svg'))\n",
        "plot_model(model, to_file='model_plot.png', show_shapes=True, show_layer_names=True)"
      ],
      "execution_count": null,
      "outputs": []
    },
    {
      "cell_type": "code",
      "metadata": {
        "id": "4vNdA6sAup2s"
      },
      "source": [
        "from keras.callbacks import ModelCheckpoint,EarlyStopping,TensorBoard,CSVLogger,ReduceLROnPlateau,LearningRateScheduler\n",
        "\n",
        "checkpoint = ModelCheckpoint(\n",
        "    './base.model',\n",
        "    monitor='val_accuracy',\n",
        "    verbose=1,\n",
        "    save_best_only=True,\n",
        "    mode='max',\n",
        "    save_weights_only=False,\n",
        "    period=1\n",
        ")\n",
        "earlystop = EarlyStopping(\n",
        "    monitor='val_loss',\n",
        "    min_delta=0.001,\n",
        "    patience=30,\n",
        "    verbose=1,\n",
        "    mode='auto'\n",
        ")\n",
        "tensorboard = TensorBoard(\n",
        "    log_dir = './logs',\n",
        "    histogram_freq=0,\n",
        "    batch_size=16,\n",
        "    write_graph=True,\n",
        "    write_grads=True,\n",
        "    write_images=False,\n",
        ")\n",
        "\n",
        "csvlogger = CSVLogger(\n",
        "    filename= \"training_csv.log\",\n",
        "    separator = \",\",\n",
        "    append = False\n",
        ")\n",
        "reduce = ReduceLROnPlateau(\n",
        "    monitor='val_loss',\n",
        "    factor=0.1,\n",
        "    patience=3,\n",
        "    verbose=1, \n",
        "    mode='auto'\n",
        ")\n",
        "\n",
        "callbacks = [checkpoint,tensorboard,csvlogger,reduce]"
      ],
      "execution_count": null,
      "outputs": []
    },
    {
      "cell_type": "code",
      "metadata": {
        "id": "WOOd1TY6u2Ty"
      },
      "source": [
        "def show_final_history(history):\n",
        "    fig, ax = plt.subplots(1, 2, figsize=(15,5))\n",
        "    ax[0].set_title('loss')\n",
        "    ax[0].plot(history.epoch, history.history[\"loss\"], label=\"Train loss\")\n",
        "    ax[0].plot(history.epoch, history.history[\"val_loss\"], label=\"Validation loss\")\n",
        "    ax[1].set_title('accuracy')\n",
        "    ax[1].plot(history.epoch, history.history[\"accuracy\"], label=\"Train accuracy\")\n",
        "    ax[1].plot(history.epoch, history.history[\"val_accuracy\"], label=\"Validation accuracy\")\n",
        "    ax[0].legend()\n",
        "    ax[1].legend()"
      ],
      "execution_count": null,
      "outputs": []
    },
    {
      "cell_type": "code",
      "metadata": {
        "id": "pv2yA9FYu4gi"
      },
      "source": [
        "from keras.optimizers import Adam,SGD\n",
        "opt = Adam(lr=0.001)\n",
        "\n",
        "model.compile(\n",
        "    loss='categorical_crossentropy',\n",
        "    optimizer=opt,\n",
        "    metrics=['accuracy']\n",
        ")"
      ],
      "execution_count": null,
      "outputs": []
    },
    {
      "cell_type": "code",
      "metadata": {
        "id": "nsGyMpKeu7Vp"
      },
      "source": [
        "history = model.fit_generator(\n",
        "    augs_gen.flow(x_train,y_train,batch_size=128),\n",
        "    validation_data  = (x_test,y_test),\n",
        "    epochs = 25, \n",
        "    verbose = 1,\n",
        "    callbacks=callbacks\n",
        ")"
      ],
      "execution_count": null,
      "outputs": []
    },
    {
      "cell_type": "code",
      "metadata": {
        "id": "aPtjUHW_u_9h"
      },
      "source": [
        "show_final_history(history)\n",
        "model.load_weights('./base.model')\n",
        "\n",
        "model_json = model.to_json()\n",
        "with open(\"model.json\",\"w\") as json_file:\n",
        "  json_file.write(model_json)\n",
        "    \n",
        "model.save(\"model.h5\")\n",
        "print(\"Weights Saved\")"
      ],
      "execution_count": null,
      "outputs": []
    },
    {
      "cell_type": "code",
      "metadata": {
        "id": "q6hIGhNuvCKq"
      },
      "source": [
        "import matplotlib.pyplot as plt\n",
        "from keras.preprocessing import image\n",
        "img = image.load_img('/content/PlantDiseaseAnalysis/TEST/00.jpg',target_size=(100,100,3))\n",
        "img = image.img_to_array(img)\n",
        "img = img/255\n",
        "proba = model.predict(img.reshape(1,100,100,3))\n",
        "top_3 = np.argsort(proba[0])[:-4:-1]\n",
        "for i in range(3):\n",
        "  print(Pred[top_3[i]])\n",
        "plt.imshow(img)"
      ],
      "execution_count": null,
      "outputs": []
    }
  ]
}